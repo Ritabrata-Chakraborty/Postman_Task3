{
 "cells": [
  {
   "cell_type": "code",
   "execution_count": 21,
   "metadata": {},
   "outputs": [],
   "source": [
    "# Import necessary modules for defining the neural network architecture and data transformations\n",
    "import torch.nn as nn\n",
    "from torchvision.transforms import transforms\n",
    "import torch\n",
    "\n",
    "# Import the pathlib module for working with file paths\n",
    "import pathlib"
   ]
  },
  {
   "cell_type": "code",
   "execution_count": 22,
   "metadata": {},
   "outputs": [
    {
     "name": "stdout",
     "output_type": "stream",
     "text": [
      "['None', 'Paper', 'Rock', 'Scissor']\n"
     ]
    }
   ],
   "source": [
    "# Define the root path where the training dataset is located\n",
    "root = pathlib.Path(\"Dataset/Train\")\n",
    "\n",
    "# Extract and sort the class or category names based on subdirectories within the root directory\n",
    "classes = sorted([j.name.split('/')[-1] for j in root.iterdir()])\n",
    "\n",
    "# Print the sorted list of class or category names\n",
    "print(classes)"
   ]
  },
  {
   "cell_type": "code",
   "execution_count": 23,
   "metadata": {},
   "outputs": [],
   "source": [
    "# Define a series of transformations for converting images to tensors\n",
    "transform = transforms.Compose([\n",
    "    transforms.Grayscale(num_output_channels=3),\n",
    "    transforms.Resize((320, 320)),  # Resize the image to 320x320 pixels\n",
    "    transforms.ToTensor(),          # Convert the image to a PyTorch tensor\n",
    "    transforms.Normalize(mean=[0.485, 0.456, 0.406], std=[0.229, 0.224, 0.225])  # Normalize the tensor\n",
    "])\n",
    "\n",
    "# Define a series of transformations for converting tensors to PIL images\n",
    "transform_PIL = transforms.Compose([\n",
    "    transforms.Grayscale(num_output_channels=3),\n",
    "    transforms.ToPILImage(),        # Convert the tensor to a PIL image\n",
    "    transforms.Resize((320, 320)),  # Resize the PIL image to 320x320 pixels\n",
    "    transforms.ToTensor(),          # Convert the PIL image back to a tensor\n",
    "    transforms.Normalize(mean=[0.485, 0.456, 0.406], std=[0.229, 0.224, 0.225])  # Normalize the tensor\n",
    "])"
   ]
  },
  {
   "cell_type": "code",
   "execution_count": 24,
   "metadata": {},
   "outputs": [],
   "source": [
    "class ConvNet(nn.Module):\n",
    "    def __init__(self, num_classes=len(classes)):\n",
    "        super(ConvNet, self).__init__()\n",
    "        \n",
    "        # Define the first convolutional layer\n",
    "        self.conv1 = nn.Conv2d(in_channels=3, out_channels=12, kernel_size=3, stride=1, padding=1)\n",
    "        self.bn1 = nn.BatchNorm2d(num_features=12)\n",
    "        self.relu1 = nn.ReLU()\n",
    "        \n",
    "        # Define the second convolutional layer\n",
    "        self.conv2 = nn.Conv2d(in_channels=12, out_channels=24, kernel_size=3, stride=1, padding=1)\n",
    "        self.bn2 = nn.BatchNorm2d(num_features=24)\n",
    "        self.relu2 = nn.ReLU()\n",
    "        \n",
    "        # Max-pooling layer after the second convolutional layer\n",
    "        self.pool1 = nn.MaxPool2d(kernel_size=2)\n",
    "        \n",
    "        # Define the third convolutional layer\n",
    "        self.conv3 = nn.Conv2d(in_channels=24, out_channels=36, kernel_size=3, stride=1, padding=1)\n",
    "        self.bn3 = nn.BatchNorm2d(num_features=36)\n",
    "        self.relu3 = nn.ReLU()\n",
    "        \n",
    "        # Define the fourth convolutional layer\n",
    "        self.conv4 = nn.Conv2d(in_channels=36, out_channels=48, kernel_size=3, stride=1, padding=1)\n",
    "        self.bn4 = nn.BatchNorm2d(num_features=48)\n",
    "        self.relu4 = nn.ReLU()\n",
    "        \n",
    "        # Max-pooling layer after the fourth convolutional layer\n",
    "        self.pool2 = nn.MaxPool2d(kernel_size=2)\n",
    "        \n",
    "        # Fully connected (dense) layer for classification\n",
    "        self.fc1 = nn.Linear(in_features=48 * 80 * 80, out_features=256)\n",
    "        self.fc2 = nn.Linear(in_features=256, out_features=num_classes)\n",
    "           \n",
    "    def forward(self, input):\n",
    "        output = self.conv1(input)\n",
    "        output = self.bn1(output)\n",
    "        output = self.relu1(output)\n",
    "        \n",
    "        output = self.conv2(output)\n",
    "        output = self.bn2(output)\n",
    "        output = self.relu2(output)\n",
    "        \n",
    "        output = self.pool1(output)\n",
    "        \n",
    "        output = self.conv3(output)\n",
    "        output = self.bn3(output)\n",
    "        output = self.relu3(output)\n",
    "        \n",
    "        output = self.conv4(output)\n",
    "        output = self.bn4(output)\n",
    "        output = self.relu4(output)\n",
    "        \n",
    "        output = self.pool2(output)\n",
    "        \n",
    "        output = output.view(-1, 48 * 80 * 80)\n",
    "        \n",
    "        output = self.fc1(output)\n",
    "        output = self.fc2(output)\n",
    "        \n",
    "        # Apply sigmoid activation to the output of the last linear layer\n",
    "        output = torch.sigmoid(output)\n",
    "\n",
    "        return output\n"
   ]
  },
  {
   "cell_type": "code",
   "execution_count": 25,
   "metadata": {},
   "outputs": [],
   "source": [
    "# Create an instance of the ConvNet model with the number of output classes\n",
    "model = ConvNet(num_classes=len(classes))"
   ]
  }
 ],
 "metadata": {
  "kernelspec": {
   "display_name": "Python 3",
   "language": "python",
   "name": "python3"
  },
  "language_info": {
   "codemirror_mode": {
    "name": "ipython",
    "version": 3
   },
   "file_extension": ".py",
   "mimetype": "text/x-python",
   "name": "python",
   "nbconvert_exporter": "python",
   "pygments_lexer": "ipython3",
   "version": "3.11.5"
  },
  "orig_nbformat": 4
 },
 "nbformat": 4,
 "nbformat_minor": 2
}
