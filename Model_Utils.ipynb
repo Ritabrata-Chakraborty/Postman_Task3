{
 "cells": [
  {
   "cell_type": "code",
   "execution_count": 29,
   "metadata": {},
   "outputs": [],
   "source": [
    "# Import necessary modules for defining the neural network architecture and data transformations\n",
    "import torch.nn as nn\n",
    "from torchvision.transforms import transforms\n",
    "\n",
    "# Import the pathlib module for working with file paths\n",
    "import pathlib"
   ]
  },
  {
   "cell_type": "code",
   "execution_count": 30,
   "metadata": {},
   "outputs": [
    {
     "name": "stdout",
     "output_type": "stream",
     "text": [
      "['None', 'Paper', 'Rock', 'Scissor']\n"
     ]
    }
   ],
   "source": [
    "# Define the root path where the training dataset is located\n",
    "root = pathlib.Path(\"Dataset/Train\")\n",
    "\n",
    "# Extract and sort the class or category names based on subdirectories within the root directory\n",
    "classes = sorted([j.name.split('/')[-1] for j in root.iterdir()])\n",
    "\n",
    "# Print the sorted list of class or category names\n",
    "print(classes)"
   ]
  },
  {
   "cell_type": "code",
   "execution_count": 31,
   "metadata": {},
   "outputs": [],
   "source": [
    "# Define a series of transformations for converting images to tensors\n",
    "transform = transforms.Compose([\n",
    "    transforms.Resize((320, 320)),  # Resize the image to 320x320 pixels\n",
    "    transforms.ToTensor(),          # Convert the image to a PyTorch tensor\n",
    "    transforms.Normalize(mean=[0.485, 0.456, 0.406], std=[0.229, 0.224, 0.225])  # Normalize the tensor\n",
    "])\n",
    "\n",
    "# Define a series of transformations for converting tensors to PIL images\n",
    "transform_PIL = transforms.Compose([\n",
    "    transforms.ToPILImage(),        # Convert the tensor to a PIL image\n",
    "    transforms.Resize((320, 320)),  # Resize the PIL image to 320x320 pixels\n",
    "    transforms.ToTensor(),          # Convert the PIL image back to a tensor\n",
    "    transforms.Normalize(mean=[0.485, 0.456, 0.406], std=[0.229, 0.224, 0.225])  # Normalize the tensor\n",
    "])\n"
   ]
  },
  {
   "cell_type": "code",
   "execution_count": 32,
   "metadata": {},
   "outputs": [],
   "source": [
    "# Define a custom CNN model for image classification\n",
    "class ConvNet(nn.Module):\n",
    "    def __init__(self, num_classes=len(classes)):\n",
    "        super(ConvNet, self).__init__()\n",
    "        \n",
    "        # ... (Layer definitions as before) ...\n",
    "           \n",
    "    def forward(self, input):\n",
    "        # Forward pass through the first convolutional layer\n",
    "        output = self.conv1(input)\n",
    "        output = self.bn1(output)\n",
    "        output = self.relu1(output)\n",
    "        \n",
    "        # Apply max-pooling to reduce spatial dimensions\n",
    "        output = self.pool(output)\n",
    "        \n",
    "        # Forward pass through the second convolutional layer\n",
    "        output = self.conv2(output)\n",
    "        output = self.relu2(output)\n",
    "        \n",
    "        # Forward pass through the third convolutional layer\n",
    "        output = self.conv3(output)\n",
    "        output = self.bn3(output)\n",
    "        output = self.relu3(output)\n",
    "        \n",
    "        # Reshape the output to be ready for the fully connected layer\n",
    "        output = output.view(-1, 32 * 160 * 160)\n",
    "        \n",
    "        # Forward pass through the fully connected layer for classification\n",
    "        output = self.fc(output)\n",
    "        \n",
    "        return output"
   ]
  },
  {
   "cell_type": "code",
   "execution_count": 33,
   "metadata": {},
   "outputs": [],
   "source": [
    "# Create an instance of the ConvNet model with the number of output classes\n",
    "model = ConvNet(num_classes=len(classes))"
   ]
  }
 ],
 "metadata": {
  "kernelspec": {
   "display_name": "Python 3",
   "language": "python",
   "name": "python3"
  },
  "language_info": {
   "codemirror_mode": {
    "name": "ipython",
    "version": 3
   },
   "file_extension": ".py",
   "mimetype": "text/x-python",
   "name": "python",
   "nbconvert_exporter": "python",
   "pygments_lexer": "ipython3",
   "version": "3.11.5"
  },
  "orig_nbformat": 4
 },
 "nbformat": 4,
 "nbformat_minor": 2
}
