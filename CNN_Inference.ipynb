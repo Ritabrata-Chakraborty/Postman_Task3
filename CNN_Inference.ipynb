{
 "cells": [
  {
   "cell_type": "code",
   "execution_count": 13,
   "metadata": {},
   "outputs": [],
   "source": [
    "# Import necessary libraries for image and video processing\n",
    "import torch  # PyTorch for deep learning\n",
    "from torch.autograd import Variable  # For creating variable tensors\n",
    "from PIL import Image  # Python Imaging Library for image processing\n",
    "import glob  # For file path manipulation and searching\n",
    "import cv2  # OpenCV for video processing\n",
    "\n",
    "# Import user-defined modules for model utilities and components\n",
    "import import_ipynb  # Import .ipynb notebooks as modules (if necessary)\n",
    "from Model_Utils import classes, transform, transform_PIL, model  # Import model-related components"
   ]
  },
  {
   "cell_type": "code",
   "execution_count": 14,
   "metadata": {},
   "outputs": [
    {
     "data": {
      "text/plain": [
       "ConvNet(\n",
       "  (conv1): Conv2d(3, 12, kernel_size=(3, 3), stride=(1, 1), padding=(1, 1))\n",
       "  (bn1): BatchNorm2d(12, eps=1e-05, momentum=0.1, affine=True, track_running_stats=True)\n",
       "  (relu1): ReLU()\n",
       "  (pool): MaxPool2d(kernel_size=2, stride=2, padding=0, dilation=1, ceil_mode=False)\n",
       "  (conv2): Conv2d(12, 20, kernel_size=(3, 3), stride=(1, 1), padding=(1, 1))\n",
       "  (relu2): ReLU()\n",
       "  (conv3): Conv2d(20, 32, kernel_size=(3, 3), stride=(1, 1), padding=(1, 1))\n",
       "  (bn3): BatchNorm2d(32, eps=1e-05, momentum=0.1, affine=True, track_running_stats=True)\n",
       "  (relu3): ReLU()\n",
       "  (fc): Linear(in_features=819200, out_features=4, bias=True)\n",
       ")"
      ]
     },
     "execution_count": 14,
     "metadata": {},
     "output_type": "execute_result"
    }
   ],
   "source": [
    "# Load the pre-trained model checkpoint from 'Best_Checkpoint_Cross.model'\n",
    "checkpoint = torch.load('Best_Checkpoint_Cross.model')\n",
    "\n",
    "# Load the model's state_dict from the checkpoint to initialize the model's weights\n",
    "model.load_state_dict(checkpoint)\n",
    "\n",
    "# Set the model to evaluation mode (disables dropout and batch normalization)\n",
    "model.eval()"
   ]
  },
  {
   "cell_type": "code",
   "execution_count": 15,
   "metadata": {},
   "outputs": [],
   "source": [
    "# Define a prediction function for single images\n",
    "def Image_Prediction(image, transform):\n",
    "    # Apply the specified transformation to the input image and convert it to a tensor\n",
    "    image_tensor = transform(image).float()\n",
    "    image_tensor = image_tensor.unsqueeze(0)  # Add a batch dimension\n",
    "    \n",
    "    # Check if a GPU is available and move the tensor to the GPU if possible\n",
    "    if torch.cuda.is_available():\n",
    "        image_tensor = image_tensor.cuda()\n",
    "        \n",
    "    # Wrap the tensor with Variable (used for older PyTorch versions)\n",
    "    input = Variable(image_tensor)\n",
    "    \n",
    "    # Pass the input through the pre-trained model\n",
    "    output = model(input)\n",
    "    \n",
    "    # Get the index of the class with the highest probability\n",
    "    index = output.data.numpy().argmax()\n",
    "    \n",
    "    # Get the predicted class label from the 'classes' list\n",
    "    pred = classes[index]\n",
    "    \n",
    "    return pred\n"
   ]
  },
  {
   "cell_type": "code",
   "execution_count": 16,
   "metadata": {},
   "outputs": [],
   "source": [
    "# Define a function for making predictions on video frames using a pre-trained model\n",
    "def Video_Prediction(frame, transform, model):\n",
    "    # Preprocess the video frame using the specified transformation and convert to a tensor\n",
    "    image_tensor = transform(frame).float()\n",
    "    image_tensor = image_tensor.unsqueeze(0)  # Add a batch dimension\n",
    "\n",
    "    # Check if a GPU is available and move the tensor and model to the GPU if possible\n",
    "    if torch.cuda.is_available():\n",
    "        image_tensor = image_tensor.cuda()\n",
    "        model = model.cuda()  # Move the model to CUDA\n",
    "\n",
    "    # Wrap the tensor with Variable (used for older PyTorch versions)\n",
    "    input_var = Variable(image_tensor)\n",
    "\n",
    "    # Forward pass through the pre-trained model to obtain predictions\n",
    "    output = model(input_var)\n",
    "\n",
    "    # Get the index of the class with the highest probability\n",
    "    index = output.data.cpu().numpy().argmax()  # Move to CPU for numpy conversion\n",
    "\n",
    "    # Get the predicted class label from the 'classes' list (replace with your own list)\n",
    "    prediction = classes[index]\n",
    "\n",
    "    return prediction"
   ]
  }
 ],
 "metadata": {
  "kernelspec": {
   "display_name": "Python 3",
   "language": "python",
   "name": "python3"
  },
  "language_info": {
   "codemirror_mode": {
    "name": "ipython",
    "version": 3
   },
   "file_extension": ".py",
   "mimetype": "text/x-python",
   "name": "python",
   "nbconvert_exporter": "python",
   "pygments_lexer": "ipython3",
   "version": "3.11.5"
  }
 },
 "nbformat": 4,
 "nbformat_minor": 2
}
